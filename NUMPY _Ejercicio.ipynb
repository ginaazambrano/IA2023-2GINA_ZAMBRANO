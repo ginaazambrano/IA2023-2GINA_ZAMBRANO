{
  "nbformat": 4,
  "nbformat_minor": 0,
  "metadata": {
    "colab": {
      "provenance": [],
      "authorship_tag": "ABX9TyM2UfYXaBNXjkICTbM5v4T8",
      "include_colab_link": true
    },
    "kernelspec": {
      "name": "python3",
      "display_name": "Python 3"
    },
    "language_info": {
      "name": "python"
    }
  },
  "cells": [
    {
      "cell_type": "markdown",
      "metadata": {
        "id": "view-in-github",
        "colab_type": "text"
      },
      "source": [
        "<a href=\"https://colab.research.google.com/github/ginaazambrano/IA2023-2GINA_ZAMBRANO/blob/main/NUMPY%20_Ejercicio.ipynb\" target=\"_parent\"><img src=\"https://colab.research.google.com/assets/colab-badge.svg\" alt=\"Open In Colab\"/></a>"
      ]
    },
    {
      "cell_type": "code",
      "execution_count": 1,
      "metadata": {
        "id": "2rHzAw0EsE8F"
      },
      "outputs": [],
      "source": [
        "import numpy as np"
      ]
    },
    {
      "cell_type": "code",
      "source": [
        "import numpy as np\n",
        "\n",
        "# Check the NumPy version\n",
        "print(np.__version__)\n",
        ""
      ],
      "metadata": {
        "colab": {
          "base_uri": "https://localhost:8080/"
        },
        "id": "FDixEgo1uMbf",
        "outputId": "26346e9c-3b0f-46ca-e44a-8c3eed907689"
      },
      "execution_count": 2,
      "outputs": [
        {
          "output_type": "stream",
          "name": "stdout",
          "text": [
            "1.23.5\n"
          ]
        }
      ]
    },
    {
      "cell_type": "code",
      "source": [
        "# Create a 1D array of numbers from 0 to 9\n",
        "array_1d = np.arange(10)\n",
        "\n",
        "print(array_1d)"
      ],
      "metadata": {
        "colab": {
          "base_uri": "https://localhost:8080/"
        },
        "id": "vGYQDUPquMW-",
        "outputId": "e30585bd-d282-4d59-f4b2-4e8ff3f90c16"
      },
      "execution_count": 3,
      "outputs": [
        {
          "output_type": "stream",
          "name": "stdout",
          "text": [
            "[0 1 2 3 4 5 6 7 8 9]\n"
          ]
        }
      ]
    },
    {
      "cell_type": "code",
      "source": [
        "# Create a random vector of size 10\n",
        "random_vector = np.random.rand(10)\n",
        "\n",
        "# Find the index of the maximum value in the vector\n",
        "max_index = np.argmax(random_vector)\n",
        "\n",
        "# Replace the maximum value with 0\n",
        "random_vector[max_index] = 0\n",
        "\n",
        "print(\"Random vector with the maximum value replaced by 0:\")\n",
        "print(random_vector)\n",
        "\n"
      ],
      "metadata": {
        "colab": {
          "base_uri": "https://localhost:8080/"
        },
        "id": "OKLgXqE0uMNe",
        "outputId": "61dc2773-c067-4620-a6b0-f70ba6723a5a"
      },
      "execution_count": 4,
      "outputs": [
        {
          "output_type": "stream",
          "name": "stdout",
          "text": [
            "Random vector with the maximum value replaced by 0:\n",
            "[0.70619512 0.19323784 0.         0.22205659 0.27062126 0.89460492\n",
            " 0.47479591 0.45221804 0.1124071  0.76204301]\n"
          ]
        }
      ]
    },
    {
      "cell_type": "code",
      "source": [
        "arr = np.array([[1, 2, 3, 4, 5], [6, 7, 8, 9, 10]])\n",
        "\n",
        "# To print the number 8\n",
        "number_to_find = 8\n",
        "\n",
        "indices = np.where(arr == number_to_find)\n",
        "\n",
        "print(\"Indices of the number 8:\")\n",
        "print(indices)\n",
        "\n",
        "found_value = arr[indices]\n",
        "print(\"The number 8 is at position:\", indices[0], indices[1])\n",
        "print(\"Value at that position:\", found_value)\n",
        ""
      ],
      "metadata": {
        "colab": {
          "base_uri": "https://localhost:8080/"
        },
        "id": "J2X1TkPOuYSL",
        "outputId": "852c6b26-12d8-4c2d-c6ff-0f5618396493"
      },
      "execution_count": 5,
      "outputs": [
        {
          "output_type": "stream",
          "name": "stdout",
          "text": [
            "Indices of the number 8:\n",
            "(array([1]), array([2]))\n",
            "The number 8 is at position: [1] [2]\n",
            "Value at that position: [8]\n"
          ]
        }
      ]
    },
    {
      "cell_type": "code",
      "source": [
        "arr = np.array([1, 2, 3, 4, 5, 6, 7])\n",
        "\n",
        "# Use slicing to extract the numbers [3, 4, 5]\n",
        "subset = arr[2:5]\n",
        "\n",
        "print(\"The numbers [3, 4, 5] from the array:\")\n",
        "print(subset)\n"
      ],
      "metadata": {
        "colab": {
          "base_uri": "https://localhost:8080/"
        },
        "id": "DRvcQhoJubeb",
        "outputId": "85cc1e23-c259-4bf5-f2d2-72b3b453db58"
      },
      "execution_count": 6,
      "outputs": [
        {
          "output_type": "stream",
          "name": "stdout",
          "text": [
            "The numbers [3, 4, 5] from the array:\n",
            "[3 4 5]\n"
          ]
        }
      ]
    },
    {
      "cell_type": "code",
      "source": [
        "arr = np.array([1, 2, 3, 4, 5, 6, 7])\n",
        "\n",
        "# Use slicing to extract the last 4 numbers\n",
        "a = arr[-4:]\n",
        "\n",
        "print(\"The last 4 numbers from the array:\")\n",
        "print(a)\n",
        ""
      ],
      "metadata": {
        "colab": {
          "base_uri": "https://localhost:8080/"
        },
        "id": "rcbkZBSqueIY",
        "outputId": "66f82cda-7681-47b2-f9a8-154ae6a23209"
      },
      "execution_count": 7,
      "outputs": [
        {
          "output_type": "stream",
          "name": "stdout",
          "text": [
            "The last 4 numbers from the array:\n",
            "[4 5 6 7]\n"
          ]
        }
      ]
    },
    {
      "cell_type": "code",
      "source": [
        "t = np.ones((2, 2), dtype=bool)\n",
        "\n",
        "print(t)"
      ],
      "metadata": {
        "colab": {
          "base_uri": "https://localhost:8080/"
        },
        "id": "9QpHrB_qugTi",
        "outputId": "0c46033b-1ee3-4ddc-d99f-d004bdb68607"
      },
      "execution_count": 8,
      "outputs": [
        {
          "output_type": "stream",
          "name": "stdout",
          "text": [
            "[[ True  True]\n",
            " [ True  True]]\n"
          ]
        }
      ]
    },
    {
      "cell_type": "code",
      "source": [
        "arr = np.array([1, 2, 3, 4, 5, 6, 7, 8, 9])\n",
        "\n",
        "# Use boolean indexing to extract odd numbers\n",
        "odd_numbers = arr[arr % 2 == 1]\n",
        "\n",
        "print(\"Odd numbers from the array:\")\n",
        "print(odd_numbers)\n",
        ""
      ],
      "metadata": {
        "colab": {
          "base_uri": "https://localhost:8080/"
        },
        "id": "E8kcQuMduiYS",
        "outputId": "95fbabb6-5faf-4631-f98a-1a98d3961e40"
      },
      "execution_count": 9,
      "outputs": [
        {
          "output_type": "stream",
          "name": "stdout",
          "text": [
            "Odd numbers from the array:\n",
            "[1 3 5 7 9]\n"
          ]
        }
      ]
    },
    {
      "cell_type": "code",
      "source": [
        "vector = np.arange(10, 50)\n",
        "\n",
        "print(vector)\n",
        ""
      ],
      "metadata": {
        "colab": {
          "base_uri": "https://localhost:8080/"
        },
        "id": "IezQZIaIumo-",
        "outputId": "36aa130c-64e3-438c-8d93-6ca3cdf16076"
      },
      "execution_count": 10,
      "outputs": [
        {
          "output_type": "stream",
          "name": "stdout",
          "text": [
            "[10 11 12 13 14 15 16 17 18 19 20 21 22 23 24 25 26 27 28 29 30 31 32 33\n",
            " 34 35 36 37 38 39 40 41 42 43 44 45 46 47 48 49]\n"
          ]
        }
      ]
    },
    {
      "cell_type": "code",
      "source": [
        "vector = np.arange(10, 50)\n",
        "\n",
        "# Reverse the vector\n",
        "reversed_vector = vector[::-1]\n",
        "\n",
        "print(reversed_vector)"
      ],
      "metadata": {
        "colab": {
          "base_uri": "https://localhost:8080/"
        },
        "id": "1ySCY73-uoqC",
        "outputId": "815a4f86-ef5b-4adb-9a03-04a9c6a90beb"
      },
      "execution_count": 11,
      "outputs": [
        {
          "output_type": "stream",
          "name": "stdout",
          "text": [
            "[49 48 47 46 45 44 43 42 41 40 39 38 37 36 35 34 33 32 31 30 29 28 27 26\n",
            " 25 24 23 22 21 20 19 18 17 16 15 14 13 12 11 10]\n"
          ]
        }
      ]
    },
    {
      "cell_type": "code",
      "source": [
        "random_array = np.random.randint(0, 101, size=(10, 10))\n",
        "\n",
        "# Find the minimum and maximum values\n",
        "min_value = np.min(random_array)\n",
        "max_value = np.max(random_array)\n",
        "\n",
        "print(\"Random Array:\")\n",
        "print(random_array)\n",
        "print(\"Minimum Value:\", min_value)\n",
        "print(\"Maximum Value:\", max_value)\n",
        ""
      ],
      "metadata": {
        "colab": {
          "base_uri": "https://localhost:8080/"
        },
        "id": "378aFt0FusvM",
        "outputId": "ae3e2b29-29e5-4447-bf79-b1edf6f1f220"
      },
      "execution_count": 12,
      "outputs": [
        {
          "output_type": "stream",
          "name": "stdout",
          "text": [
            "Random Array:\n",
            "[[ 60  60  68  95  27  63  17  90  37  57]\n",
            " [ 78  82  65  84  98  41  64  61  89  71]\n",
            " [ 46  72   6  66  60  38  26  23  99   2]\n",
            " [ 65  31  58  23  30  13   3  36  49   2]\n",
            " [  4   8  10  46  68  77  19  39  92  53]\n",
            " [100  11  12   5  68  93  67  95  63  52]\n",
            " [ 61  68  44  48  14  27  50  54  59  60]\n",
            " [ 92  35  51  70  69  66  56  76  25  25]\n",
            " [ 87   5  51  29  79  71  28   6  61  54]\n",
            " [ 80  55  84  83  67  19   6  66   9  60]]\n",
            "Minimum Value: 2\n",
            "Maximum Value: 100\n"
          ]
        }
      ]
    },
    {
      "cell_type": "code",
      "source": [
        "randon = np.random.rand(3, 3, 3)\n",
        "\n",
        "print(randon)"
      ],
      "metadata": {
        "colab": {
          "base_uri": "https://localhost:8080/"
        },
        "id": "LDtVRf_suxlf",
        "outputId": "c20fb98d-9d1d-458f-df9c-611a021af4e0"
      },
      "execution_count": 13,
      "outputs": [
        {
          "output_type": "stream",
          "name": "stdout",
          "text": [
            "[[[0.72137477 0.78752792 0.16800761]\n",
            "  [0.77193954 0.45071658 0.27750407]\n",
            "  [0.94854368 0.1138582  0.48483552]]\n",
            "\n",
            " [[0.23452393 0.08285267 0.3673898 ]\n",
            "  [0.37216871 0.25542457 0.82702762]\n",
            "  [0.3818931  0.80941675 0.07465142]]\n",
            "\n",
            " [[0.43687448 0.67117798 0.06551144]\n",
            "  [0.8022313  0.41110699 0.81694086]\n",
            "  [0.17143687 0.48957802 0.77316287]]]\n"
          ]
        }
      ]
    },
    {
      "cell_type": "code",
      "source": [
        "import numpy as np\n",
        "\n",
        "# Create or define your NumPy array (arr)\n",
        "arr = np.array([1, 2, 3, 4, 5, 6, 7, 8, 9])\n",
        "\n",
        "# Use boolean indexing to replace odd numbers with -1\n",
        "arr[arr % 2 == 1] = -1\n",
        "\n",
        "print(\"Modified array with odd numbers replaced by -1:\")\n",
        "print(arr)"
      ],
      "metadata": {
        "colab": {
          "base_uri": "https://localhost:8080/"
        },
        "id": "ozPlwWb1u1v_",
        "outputId": "4f6e0156-2f52-4699-93a3-2ddb3de55c01"
      },
      "execution_count": 14,
      "outputs": [
        {
          "output_type": "stream",
          "name": "stdout",
          "text": [
            "Modified array with odd numbers replaced by -1:\n",
            "[-1  2 -1  4 -1  6 -1  8 -1]\n"
          ]
        }
      ]
    },
    {
      "cell_type": "code",
      "source": [
        "float_array = np.array([1.3, 2.5, 3.7, 4.2])\n",
        "\n",
        "print(float_array)"
      ],
      "metadata": {
        "colab": {
          "base_uri": "https://localhost:8080/"
        },
        "id": "ofXMcbG-u5ad",
        "outputId": "efef5ea5-74c6-4049-813f-795374df5fce"
      },
      "execution_count": 15,
      "outputs": [
        {
          "output_type": "stream",
          "name": "stdout",
          "text": [
            "[1.3 2.5 3.7 4.2]\n"
          ]
        }
      ]
    },
    {
      "cell_type": "code",
      "source": [
        "arr_1d = np.array([1, 2, 3, 4, 5, 6, 7, 8])\n",
        "\n",
        "# Reshape the 1D array into a 2D array with 2 rows\n",
        "arr_2d = arr_1d.reshape(2, -1)\n",
        "\n",
        "print(\"1D Array:\")\n",
        "print(arr_1d)\n",
        "\n",
        "print(\"2D Array with 2 rows:\")\n",
        "print(arr_2d)\n",
        ""
      ],
      "metadata": {
        "colab": {
          "base_uri": "https://localhost:8080/"
        },
        "id": "mAyYnXfYu-Al",
        "outputId": "aa38f14e-f296-407f-f89d-0ae6d1de7440"
      },
      "execution_count": 16,
      "outputs": [
        {
          "output_type": "stream",
          "name": "stdout",
          "text": [
            "1D Array:\n",
            "[1 2 3 4 5 6 7 8]\n",
            "2D Array with 2 rows:\n",
            "[[1 2 3 4]\n",
            " [5 6 7 8]]\n"
          ]
        }
      ]
    },
    {
      "cell_type": "code",
      "source": [
        "Z1 = np.random.randint(0, 10, 10)\n",
        "Z2 = np.random.randint(0, 10, 10)\n",
        "\n",
        "# Find the common values between Z1 and Z2\n",
        "common_values = np.intersect1d(Z1, Z2)\n",
        "\n",
        "print(\"Array Z1:\", Z1)\n",
        "print(\"Array Z2:\", Z2)\n",
        "print(\"Common values:\", common_values)"
      ],
      "metadata": {
        "colab": {
          "base_uri": "https://localhost:8080/"
        },
        "id": "KJky2QUmvB_E",
        "outputId": "f806d167-7d48-4382-ba1b-870e091781a3"
      },
      "execution_count": 17,
      "outputs": [
        {
          "output_type": "stream",
          "name": "stdout",
          "text": [
            "Array Z1: [6 6 0 6 2 4 5 8 8 0]\n",
            "Array Z2: [4 1 6 5 4 6 7 6 2 1]\n",
            "Common values: [2 4 5 6]\n"
          ]
        }
      ]
    },
    {
      "cell_type": "code",
      "source": [
        "A = np.random.randint(0, 2, 5)\n",
        "B = np.random.randint(0, 2, 5)\n",
        "\n",
        "# Check if A and B are equal\n",
        "are_equal = np.array_equal(A, B)\n",
        "\n",
        "print(\"Array A:\", A)\n",
        "print(\"Array B:\", B)\n",
        "print(\"Are A and B equal?\", are_equal)"
      ],
      "metadata": {
        "colab": {
          "base_uri": "https://localhost:8080/"
        },
        "id": "YLifucacvB8E",
        "outputId": "539d4426-f122-4183-dd83-0c055e05b99f"
      },
      "execution_count": 18,
      "outputs": [
        {
          "output_type": "stream",
          "name": "stdout",
          "text": [
            "Array A: [1 0 1 0 1]\n",
            "Array B: [0 0 0 0 0]\n",
            "Are A and B equal? False\n"
          ]
        }
      ]
    },
    {
      "cell_type": "code",
      "source": [
        "a = np.array([0, 2, 5])\n",
        "b = np.array([0, 2, 5])\n",
        "\n",
        "# Stack arrays a and b vertically\n",
        "stacked_array = np.vstack((a, b))\n",
        "\n",
        "print(\"Array a:\")\n",
        "print(a)\n",
        "\n",
        "print(\"Array b:\")\n",
        "print(b)\n",
        "\n",
        "print(\"Stacked array (vertically):\")\n",
        "print(stacked_array)"
      ],
      "metadata": {
        "colab": {
          "base_uri": "https://localhost:8080/"
        },
        "id": "MZ_3BR5bvHGF",
        "outputId": "170224e8-91aa-4779-d02a-de5600368615"
      },
      "execution_count": 19,
      "outputs": [
        {
          "output_type": "stream",
          "name": "stdout",
          "text": [
            "Array a:\n",
            "[0 2 5]\n",
            "Array b:\n",
            "[0 2 5]\n",
            "Stacked array (vertically):\n",
            "[[0 2 5]\n",
            " [0 2 5]]\n"
          ]
        }
      ]
    },
    {
      "cell_type": "code",
      "source": [
        "a = np.array([0, 2, 5])\n",
        "b = np.array([0, 2, 5])\n",
        "\n",
        "# Stack arrays a and b horizontally\n",
        "stacked_array = np.hstack((a, b))\n",
        "\n",
        "print(\"Array a:\")\n",
        "print(a)\n",
        "\n",
        "print(\"Array b:\")\n",
        "print(b)\n",
        "\n",
        "print(\"Stacked array (horizontally):\")\n",
        "print(stacked_array)\n",
        ""
      ],
      "metadata": {
        "colab": {
          "base_uri": "https://localhost:8080/"
        },
        "id": "7GKTh55qvKto",
        "outputId": "8f6ab9a2-60be-45e0-c44b-c707c03a594a"
      },
      "execution_count": 20,
      "outputs": [
        {
          "output_type": "stream",
          "name": "stdout",
          "text": [
            "Array a:\n",
            "[0 2 5]\n",
            "Array b:\n",
            "[0 2 5]\n",
            "Stacked array (horizontally):\n",
            "[0 2 5 0 2 5]\n"
          ]
        }
      ]
    },
    {
      "cell_type": "code",
      "source": [
        "\n",
        "tmp = np.arange(15)\n",
        "\n",
        "# Create a boolean mask to identify elements between 5 and 10\n",
        "mask = (tmp >= 5) & (tmp <= 10)\n",
        "\n",
        "# Use the boolean mask to extract elements between 5 and 10\n",
        "result = tmp[mask]\n",
        "\n",
        "print(\"Array tmp:\")\n",
        "print(tmp)\n",
        "\n",
        "print(\"Items between 5 and 10:\")\n",
        "print(result)"
      ],
      "metadata": {
        "colab": {
          "base_uri": "https://localhost:8080/"
        },
        "id": "MazEJvAbvQyP",
        "outputId": "3a023026-2e7b-4f46-f8a5-8480ca625b12"
      },
      "execution_count": 21,
      "outputs": [
        {
          "output_type": "stream",
          "name": "stdout",
          "text": [
            "Array tmp:\n",
            "[ 0  1  2  3  4  5  6  7  8  9 10 11 12 13 14]\n",
            "Items between 5 and 10:\n",
            "[ 5  6  7  8  9 10]\n"
          ]
        }
      ]
    },
    {
      "cell_type": "code",
      "source": [
        "def pair_max(a, b):\n",
        "    \"\"\"Get the element-wise maximum of two arrays a and b.\"\"\"\n",
        "    return np.maximum(a, b)\n",
        "\n",
        "a = np.array([5, 7, 9, 8, 6, 4, 5])\n",
        "b = np.array([6, 3, 4, 8, 9, 7, 1])\n",
        "\n",
        "result = pair_max(a, b)\n",
        "print(result)\n",
        ""
      ],
      "metadata": {
        "colab": {
          "base_uri": "https://localhost:8080/"
        },
        "id": "V2fFHWKZvQvq",
        "outputId": "d2ccbd8d-142b-408e-f1cb-56daf9e65586"
      },
      "execution_count": 22,
      "outputs": [
        {
          "output_type": "stream",
          "name": "stdout",
          "text": [
            "[6 7 9 8 9 7 5]\n"
          ]
        }
      ]
    },
    {
      "cell_type": "code",
      "source": [
        "arr = np.arange(9).reshape(3, 3)\n",
        "print(\"Original array:\")\n",
        "print(arr)\n",
        "\n",
        "# Swap columns 1 and 2\n",
        "arr[:, [1, 2]] = arr[:, [2, 1]]\n",
        "\n",
        "print(\"Array after swapping columns 1 and 2:\")\n",
        "print(arr)"
      ],
      "metadata": {
        "colab": {
          "base_uri": "https://localhost:8080/"
        },
        "id": "UqUhyLvyvY5z",
        "outputId": "ef221566-40dd-4851-a5e5-082d5e731dab"
      },
      "execution_count": 23,
      "outputs": [
        {
          "output_type": "stream",
          "name": "stdout",
          "text": [
            "Original array:\n",
            "[[0 1 2]\n",
            " [3 4 5]\n",
            " [6 7 8]]\n",
            "Array after swapping columns 1 and 2:\n",
            "[[0 2 1]\n",
            " [3 5 4]\n",
            " [6 8 7]]\n"
          ]
        }
      ]
    },
    {
      "cell_type": "code",
      "source": [
        "random_array = np.random.uniform(5, 10, size=(5, 3))\n",
        "\n",
        "print(random_array)\n"
      ],
      "metadata": {
        "colab": {
          "base_uri": "https://localhost:8080/"
        },
        "id": "lYJ0pw1Zva1M",
        "outputId": "2f32c47a-e323-4b57-8a84-8322c8889f9d"
      },
      "execution_count": 24,
      "outputs": [
        {
          "output_type": "stream",
          "name": "stdout",
          "text": [
            "[[6.99991562 7.85582775 5.65559694]\n",
            " [5.18921101 8.5955184  5.69458638]\n",
            " [8.02841884 5.35333334 6.13251655]\n",
            " [9.51049035 9.06951219 7.55559833]\n",
            " [5.94537028 7.54493392 6.72596289]]\n"
          ]
        }
      ]
    }
  ]
}