{
  "nbformat": 4,
  "nbformat_minor": 0,
  "metadata": {
    "colab": {
      "provenance": [],
      "authorship_tag": "ABX9TyPfoViBg331aJsy/biNQKuS",
      "include_colab_link": true
    },
    "kernelspec": {
      "name": "python3",
      "display_name": "Python 3"
    },
    "language_info": {
      "name": "python"
    }
  },
  "cells": [
    {
      "cell_type": "markdown",
      "metadata": {
        "id": "view-in-github",
        "colab_type": "text"
      },
      "source": [
        "<a href=\"https://colab.research.google.com/github/ginaazambrano/IA2023-2GINA_ZAMBRANO/blob/main/actividad_video.ipynb\" target=\"_parent\"><img src=\"https://colab.research.google.com/assets/colab-badge.svg\" alt=\"Open In Colab\"/></a>"
      ]
    },
    {
      "cell_type": "code",
      "execution_count": 1,
      "metadata": {
        "id": "pQyTwoUOF8Q1"
      },
      "outputs": [],
      "source": [
        "# Import numpy as np and see the version\n",
        "\n",
        "# your code here\n",
        "#pass\n",
        "import numpy as np"
      ]
    },
    {
      "cell_type": "code",
      "source": [
        "# Create a 1D array of numbers from 0 to 9\n",
        "# your code here\n",
        "#pass\n",
        "a = np.random.randint(0,9, size=(1,9))\n",
        "print (a)"
      ],
      "metadata": {
        "colab": {
          "base_uri": "https://localhost:8080/"
        },
        "id": "mqlikuLeGMt5",
        "outputId": "c1fe3131-4d31-4019-b4aa-dfad2fec841d"
      },
      "execution_count": 2,
      "outputs": [
        {
          "output_type": "stream",
          "name": "stdout",
          "text": [
            "[[0 5 4 2 4 8 1 6 8]]\n"
          ]
        }
      ]
    },
    {
      "cell_type": "code",
      "source": [
        "# Create random vector of size 10 and replace the maximum value by 0\n",
        "#pass\n",
        "vector= np.random.randint(0,101, size=10)\n",
        "print(\"Vector original:\")\n",
        "print(vector)\n",
        "indice_maximo=np.argmax(vector)\n",
        "vector[indice_maximo] = 0\n",
        "print(\"Vector con el máximo valor reemplazado por O:\")\n",
        "print(vector)\n",
        ""
      ],
      "metadata": {
        "colab": {
          "base_uri": "https://localhost:8080/"
        },
        "id": "pNTQrwDKGPSO",
        "outputId": "30664056-20d3-4e37-ca34-59e4c30c4242"
      },
      "execution_count": 3,
      "outputs": [
        {
          "output_type": "stream",
          "name": "stdout",
          "text": [
            "Vector original:\n",
            "[38 39 16 20 29 11 53 82 43 85]\n",
            "Vector con el máximo valor reemplazado por O:\n",
            "[38 39 16 20 29 11 53 82 43  0]\n"
          ]
        }
      ]
    },
    {
      "cell_type": "code",
      "source": [
        "# Print the number 8 from the array below:\n",
        "# arr = np.array([[1,2,3,4,5], [6,7,8,9,10]])\n",
        "#pass\n",
        "arr=np.array([[1,2,3,4,5],[6,7,8,9,10]])\n",
        "number=arr[1,2]\n",
        "print(\"Numero o from the array:\", number)"
      ],
      "metadata": {
        "colab": {
          "base_uri": "https://localhost:8080/"
        },
        "id": "ASiDMS5PGXqT",
        "outputId": "9caebcf1-dd48-4363-ad0a-e38d8b0b2bb4"
      },
      "execution_count": 4,
      "outputs": [
        {
          "output_type": "stream",
          "name": "stdout",
          "text": [
            "Numero o from the array: 8\n"
          ]
        }
      ]
    },
    {
      "cell_type": "code",
      "source": [
        "# Print the numbers [3, 4, 5] from the array below:\n",
        "# arr = np.array([1,2,3,4,5,6,7])\n",
        "#pass\n",
        "arr=np.array([1,2,3,4,5,6,7])\n",
        "numer=arr[2:5]\n",
        "print(\"numero impreso:\", numer)"
      ],
      "metadata": {
        "colab": {
          "base_uri": "https://localhost:8080/"
        },
        "id": "rN9Hui29Gc7t",
        "outputId": "758d43d1-cd12-4ce5-aebb-76e59b88bf9c"
      },
      "execution_count": 5,
      "outputs": [
        {
          "output_type": "stream",
          "name": "stdout",
          "text": [
            "numero impreso: [3 4 5]\n"
          ]
        }
      ]
    },
    {
      "cell_type": "code",
      "source": [
        "# Print the last 4 numbers from the array below:\n",
        "# arr = np.array([1,2,3,4,5,6,7])\n",
        "#pass\n",
        "arr=np.array([1,2,3,4,5,6,7])\n",
        "numer=arr[-4:]\n",
        "print(\"numero impreso:\", numer)"
      ],
      "metadata": {
        "colab": {
          "base_uri": "https://localhost:8080/"
        },
        "id": "op69pKe6GfqL",
        "outputId": "194029e8-9e18-4236-df5f-aadae9e22b90"
      },
      "execution_count": 6,
      "outputs": [
        {
          "output_type": "stream",
          "name": "stdout",
          "text": [
            "numero impreso: [4 5 6 7]\n"
          ]
        }
      ]
    },
    {
      "cell_type": "code",
      "source": [
        "# Create a 3×3 numpy array of all True’s\n",
        "# your code here\n",
        "#pass\n",
        "matriz= np.ones((3,3), dtype=bool)\n",
        "print(\"matriz 3*3\")\n",
        "print(matriz)\n",
        ""
      ],
      "metadata": {
        "colab": {
          "base_uri": "https://localhost:8080/"
        },
        "id": "fBrlMMdyGjVD",
        "outputId": "75387369-fd23-493f-82d7-e2215b30fadb"
      },
      "execution_count": 7,
      "outputs": [
        {
          "output_type": "stream",
          "name": "stdout",
          "text": [
            "matriz 3*3\n",
            "[[ True  True  True]\n",
            " [ True  True  True]\n",
            " [ True  True  True]]\n"
          ]
        }
      ]
    },
    {
      "cell_type": "code",
      "source": [
        "# Extract all odd numbers from arr\n",
        "# your code here\n",
        "#pass\n",
        "arr = np.array([1,2,3,4,5,6,7,8,9])\n",
        "odd_number=arr[arr % 2 !=0]\n",
        "print(\"numeros impares:\", odd_number)"
      ],
      "metadata": {
        "colab": {
          "base_uri": "https://localhost:8080/"
        },
        "id": "7q93VD1BGmkE",
        "outputId": "f338d9cd-061b-4cdb-b0f0-371b2b8badf1"
      },
      "execution_count": 8,
      "outputs": [
        {
          "output_type": "stream",
          "name": "stdout",
          "text": [
            "numeros impares: [1 3 5 7 9]\n"
          ]
        }
      ]
    },
    {
      "cell_type": "code",
      "source": [
        "# Create a vector with values ranging from 10 to 49 (★☆☆)\n",
        "#pass\n",
        "vector = np.arange(10,50)\n",
        "print(vector)\n",
        ""
      ],
      "metadata": {
        "colab": {
          "base_uri": "https://localhost:8080/"
        },
        "id": "C3_rFJ7NGq9f",
        "outputId": "86e45fa7-8f0c-413b-ef89-9c0c5e20700f"
      },
      "execution_count": 9,
      "outputs": [
        {
          "output_type": "stream",
          "name": "stdout",
          "text": [
            "[10 11 12 13 14 15 16 17 18 19 20 21 22 23 24 25 26 27 28 29 30 31 32 33\n",
            " 34 35 36 37 38 39 40 41 42 43 44 45 46 47 48 49]\n"
          ]
        }
      ]
    },
    {
      "cell_type": "code",
      "source": [
        "# Reverse a vector (first element becomes last)\n",
        "#pass\n",
        "vector=np.array([1,2,3,4,5])\n",
        "vector_revertido = vector[::-1]\n",
        "print(vector)\n",
        ""
      ],
      "metadata": {
        "colab": {
          "base_uri": "https://localhost:8080/"
        },
        "id": "tZAkVL7DGuYs",
        "outputId": "53340931-a237-4809-ff0d-09153302debf"
      },
      "execution_count": 10,
      "outputs": [
        {
          "output_type": "stream",
          "name": "stdout",
          "text": [
            "[1 2 3 4 5]\n"
          ]
        }
      ]
    },
    {
      "cell_type": "code",
      "source": [
        "#  Create a 10x10 array with random integer values and find the minimum and maximum values\n",
        "#pass\n",
        "matriz = np.random.randint(0,101, size=(10,10))\n",
        "print(\"Matriz de  10*10 valores enteros aleatorios:\")\n",
        "print(matriz)\n",
        "\n",
        "valor_minimo=np.min(matriz)\n",
        "valor_maximo=np.max(matriz)\n",
        "print(\"Valor nínimo en la matriz:\", valor_minimo)\n",
        "print(\"Valor máximo en la matriz:\", valor_maximo)"
      ],
      "metadata": {
        "colab": {
          "base_uri": "https://localhost:8080/"
        },
        "id": "GLPdYZOVGy6O",
        "outputId": "7e8e01b8-73d2-4b77-a2e0-8b2ab77a63b6"
      },
      "execution_count": 11,
      "outputs": [
        {
          "output_type": "stream",
          "name": "stdout",
          "text": [
            "Matriz de  10*10 valores enteros aleatorios:\n",
            "[[62 25 40 41 45 31  1 33 46 69]\n",
            " [88 45 84 17 79 19 54 38 29 40]\n",
            " [95 69 23  6 22 79 93 20 34  5]\n",
            " [34 23 40 62 25 25 27 92 91 51]\n",
            " [17  5 85  5 67 82  3 97  9 20]\n",
            " [ 6 94 63 78 65 75 82 10 53  8]\n",
            " [92 29 29 59  6 16 31 26 75 47]\n",
            " [59 96 46 46  3 37 10 84  1 35]\n",
            " [53 78 59 74 89 54  8 40 54 65]\n",
            " [61 75 61 78 32 16 71  9 46  3]]\n",
            "Valor nínimo en la matriz: 1\n",
            "Valor máximo en la matriz: 97\n"
          ]
        }
      ]
    },
    {
      "cell_type": "code",
      "source": [
        "# Create a 3x3x3 array with random values\n",
        "#pass\n",
        "matriz_tridimensional = np.random.random((3, 3, 3))\n",
        "print(\"Matriz tridimensional 3x3x3 con valores aleatorios:\")\n",
        "print(matriz_tridimensional)"
      ],
      "metadata": {
        "colab": {
          "base_uri": "https://localhost:8080/"
        },
        "id": "RU36rnyUG2pQ",
        "outputId": "f0c4e370-568d-442f-baf4-feff678094b7"
      },
      "execution_count": 12,
      "outputs": [
        {
          "output_type": "stream",
          "name": "stdout",
          "text": [
            "Matriz tridimensional 3x3x3 con valores aleatorios:\n",
            "[[[0.42670885 0.07859803 0.17205038]\n",
            "  [0.03447446 0.58538341 0.3833533 ]\n",
            "  [0.09179329 0.39121894 0.64141235]]\n",
            "\n",
            " [[0.07084741 0.19879093 0.65340797]\n",
            "  [0.06143885 0.79871854 0.40214025]\n",
            "  [0.63721393 0.74088641 0.2178443 ]]\n",
            "\n",
            " [[0.89808881 0.15216053 0.00735349]\n",
            "  [0.21166635 0.67404909 0.5004432 ]\n",
            "  [0.70232832 0.58510388 0.34657784]]]\n"
          ]
        }
      ]
    },
    {
      "cell_type": "code",
      "source": [
        "# Replace all odd numbers in arr with -1\n",
        "# your code here\n",
        "#pass\n",
        "arr = np.array([1, 2, 3, 4, 5, 6, 7, 8, 9])\n",
        "arr[arr % 2 != 0] = -1\n",
        "print(\"Arreglo con números impares reemplazados por -1:\")\n",
        "print(arr)\n",
        ""
      ],
      "metadata": {
        "colab": {
          "base_uri": "https://localhost:8080/"
        },
        "id": "wMi7YRSDG9vD",
        "outputId": "765e2071-cce2-484d-d7d9-199c272369e1"
      },
      "execution_count": 13,
      "outputs": [
        {
          "output_type": "stream",
          "name": "stdout",
          "text": [
            "Arreglo con números impares reemplazados por -1:\n",
            "[-1  2 -1  4 -1  6 -1  8 -1]\n"
          ]
        }
      ]
    },
    {
      "cell_type": "code",
      "source": [
        "# Create an array of type float\n",
        "#pass\n",
        "arreglo_float = np.array([1.1, 2.2, 3.3, 4.4, 5.5])\n",
        "\n",
        "print(\"Arreglo de tipo float:\")\n",
        "print(arreglo_float)"
      ],
      "metadata": {
        "colab": {
          "base_uri": "https://localhost:8080/"
        },
        "id": "XMDeriThHBCF",
        "outputId": "5861e582-15b9-41a8-fae7-c669bf498826"
      },
      "execution_count": 14,
      "outputs": [
        {
          "output_type": "stream",
          "name": "stdout",
          "text": [
            "Arreglo de tipo float:\n",
            "[1.1 2.2 3.3 4.4 5.5]\n"
          ]
        }
      ]
    },
    {
      "cell_type": "code",
      "source": [
        "# Convert a 1D array to a 2D array with 2 rows\n",
        "# your code here\n",
        "#pass\n",
        "arreglo_1d = np.array([1, 2, 3, 4, 5, 6])\n",
        "arreglo_2d = arreglo_1d.reshape(2, -1)\n",
        "\n",
        "print(\"Arreglo bidimensional con 2 filas:\")\n",
        "print(arreglo_2d)"
      ],
      "metadata": {
        "colab": {
          "base_uri": "https://localhost:8080/"
        },
        "id": "VtvTMiPZHF3q",
        "outputId": "8413b8e4-17da-45ef-a419-98a9fea48a0a"
      },
      "execution_count": 15,
      "outputs": [
        {
          "output_type": "stream",
          "name": "stdout",
          "text": [
            "Arreglo bidimensional con 2 filas:\n",
            "[[1 2 3]\n",
            " [4 5 6]]\n"
          ]
        }
      ]
    },
    {
      "cell_type": "code",
      "source": [
        "# How to find common values between two arrays?\n",
        "\n",
        "# Z1 = np.random.randint(0,10,10)\n",
        "# Z2 = np.random.randint(0,10,10)\n",
        "#pass\n",
        "Z1 = np.random.randint(0, 10, 10)\n",
        "Z2 = np.random.randint(0, 10, 10)\n",
        "valores_comunes = np.intersect1d(Z1, Z2)\n",
        "\n",
        "print(\"Valores comunes entre Z1 y Z2:\")\n",
        "print(valores_comunes)\n",
        ""
      ],
      "metadata": {
        "colab": {
          "base_uri": "https://localhost:8080/"
        },
        "id": "Qi3706P4HKd-",
        "outputId": "28235dbd-5af3-40cb-c77f-148eaa02374c"
      },
      "execution_count": 16,
      "outputs": [
        {
          "output_type": "stream",
          "name": "stdout",
          "text": [
            "Valores comunes entre Z1 y Z2:\n",
            "[0 2 5 6 7 8]\n"
          ]
        }
      ]
    },
    {
      "cell_type": "code",
      "source": [
        "#  Consider two random array A and B, check if they are equal\n",
        "\n",
        "\n",
        "# A = np.random.randint(0,2,5)\n",
        "# B = np.random.randint(0,2,5)\n",
        "#pass\n",
        "A = np.random.randint(0, 2, 5)\n",
        "B = np.random.randint(0, 2, 5)\n",
        "son_iguales = np.array_equal(A, B)\n",
        "\n",
        "if son_iguales:\n",
        "    print(\"Los arreglos A y B son iguales.\")\n",
        "else:\n",
        "    print(\"Los arreglos A y B no son iguales.\")"
      ],
      "metadata": {
        "colab": {
          "base_uri": "https://localhost:8080/"
        },
        "id": "MQyOac2rHPaS",
        "outputId": "491800ef-b5f2-4a4c-b5fb-fb612545ba3c"
      },
      "execution_count": 17,
      "outputs": [
        {
          "output_type": "stream",
          "name": "stdout",
          "text": [
            "Los arreglos A y B no son iguales.\n"
          ]
        }
      ]
    },
    {
      "cell_type": "code",
      "source": [
        "# Stack arrays a and b vertically\n",
        "# your code here\n",
        "#pass\n",
        "a = np.array([1, 2, 3])\n",
        "b = np.array([4, 5, 6])\n",
        "\n",
        "resultado = np.vstack((a, b))\n",
        "\n",
        "print(\"Arreglos apilados verticalmente:\")\n",
        "print(resultado)"
      ],
      "metadata": {
        "colab": {
          "base_uri": "https://localhost:8080/"
        },
        "id": "gtrCB9qQHT0D",
        "outputId": "528aa1c0-6c05-4122-f4cc-29631caad88a"
      },
      "execution_count": 18,
      "outputs": [
        {
          "output_type": "stream",
          "name": "stdout",
          "text": [
            "Arreglos apilados verticalmente:\n",
            "[[1 2 3]\n",
            " [4 5 6]]\n"
          ]
        }
      ]
    },
    {
      "cell_type": "code",
      "source": [
        "# Stack the arrays a and b horizontally.\n",
        "# your code here\n",
        "#pass\n",
        "a = np.array([1, 2, 3])\n",
        "b = np.array([4, 5, 6])\n",
        "\n",
        "resultado = np.hstack((a, b))\n",
        "\n",
        "print(\"Arreglos apilados horizontalmente:\")\n",
        "print(resultado)\n",
        ""
      ],
      "metadata": {
        "colab": {
          "base_uri": "https://localhost:8080/"
        },
        "id": "TNK4nzcJHa6W",
        "outputId": "dd0acc69-f3bd-424a-ac7c-25c690ae1728"
      },
      "execution_count": 19,
      "outputs": [
        {
          "output_type": "stream",
          "name": "stdout",
          "text": [
            "Arreglos apilados horizontalmente:\n",
            "[1 2 3 4 5 6]\n"
          ]
        }
      ]
    },
    {
      "cell_type": "code",
      "source": [
        "# Get all items between 5 and 10 from array tmp.\n",
        "# your code here\n",
        "import numpy as np\n",
        "tmp = np.arange(15)\n",
        "# pass\n",
        "elementos_entre_5_y_10 = tmp[(tmp >= 5) & (tmp <= 10)]\n",
        "\n",
        "print(\"Elementos entre 5 y 10 del arreglo tmp:\")\n",
        "print(elementos_entre_5_y_10)"
      ],
      "metadata": {
        "colab": {
          "base_uri": "https://localhost:8080/"
        },
        "id": "1RSYcfsGHcwY",
        "outputId": "798a9cfb-3ddf-4e33-8c84-20e5b7bba3e2"
      },
      "execution_count": 20,
      "outputs": [
        {
          "output_type": "stream",
          "name": "stdout",
          "text": [
            "Elementos entre 5 y 10 del arreglo tmp:\n",
            "[ 5  6  7  8  9 10]\n"
          ]
        }
      ]
    }
  ]
}