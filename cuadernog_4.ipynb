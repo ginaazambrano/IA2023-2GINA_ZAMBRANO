{
  "nbformat": 4,
  "nbformat_minor": 0,
  "metadata": {
    "colab": {
      "provenance": [],
      "authorship_tag": "ABX9TyNgjJHQReuMfrxYh59z9WFa",
      "include_colab_link": true
    },
    "kernelspec": {
      "name": "python3",
      "display_name": "Python 3"
    },
    "language_info": {
      "name": "python"
    }
  },
  "cells": [
    {
      "cell_type": "markdown",
      "metadata": {
        "id": "view-in-github",
        "colab_type": "text"
      },
      "source": [
        "<a href=\"https://colab.research.google.com/github/ginaazambrano/IA2023-2GINA_ZAMBRANO/blob/main/cuadernog_4.ipynb\" target=\"_parent\"><img src=\"https://colab.research.google.com/assets/colab-badge.svg\" alt=\"Open In Colab\"/></a>"
      ]
    },
    {
      "cell_type": "code",
      "execution_count": 1,
      "metadata": {
        "colab": {
          "base_uri": "https://localhost:8080/"
        },
        "id": "7znmAfbPEU4Q",
        "outputId": "5af82891-7366-47c4-eae7-86507282eeb5"
      },
      "outputs": [
        {
          "output_type": "stream",
          "name": "stdout",
          "text": [
            "[[9 5 9 7]\n",
            " [2 4 2 1]\n",
            " [2 1 8 7]]\n",
            "[[ 3  9 10  8]\n",
            " [10  8  5  1]\n",
            " [ 7  7  8 10]]\n",
            "(3, 4)\n",
            "(3, 4)\n",
            "adding numbers\n",
            "[[12 14 19 15]\n",
            " [12 12  7  2]\n",
            " [ 9  8 16 17]]\n",
            "substracting numbers\n",
            "[[ 6 -4 -1 -1]\n",
            " [-8 -4 -3  0]\n",
            " [-5 -6  0 -3]]\n",
            "multiply numbers\n",
            "[[27 45 90 56]\n",
            " [20 32 10  1]\n",
            " [14  7 64 70]]\n",
            "[[12 14 19 15]\n",
            " [12 12  7  2]\n",
            " [ 9  8 16 17]]\n",
            "[[27 45 90 56]\n",
            " [20 32 10  1]\n",
            " [14  7 64 70]]\n",
            "[[3.         0.55555556 0.9        0.875     ]\n",
            " [0.2        0.5        0.4        1.        ]\n",
            " [0.28571429 0.14285714 1.         0.7       ]]\n"
          ]
        }
      ],
      "source": [
        "import numpy as np\n",
        "\n",
        "# Create an array with random values between 1 and 10\n",
        "a = np.random.randint(1, 11, size=(3, 4))\n",
        "b = np.random.randint(1, 11, size=(3, 4))\n",
        "\n",
        "# Print the random array\n",
        "print(a)\n",
        "print(b)\n",
        "print(a.shape)\n",
        "print(b.shape)\n",
        "print('adding numbers')\n",
        "print(a+b)\n",
        "print('substracting numbers')\n",
        "print(a-b)\n",
        "print('multiply numbers')\n",
        "print(a*b)\n",
        "\n",
        "print(np.add(a,b))\n",
        "print(np.multiply(a,b))\n",
        "print(np.divide(a,b))"
      ]
    },
    {
      "cell_type": "code",
      "source": [
        "a = np.random.randint(1, 11, size=(2, 3))\n",
        "b = np.random.randint(1, 11, size=(3, 4))\n",
        "print(a)\n",
        "print(b)\n",
        "print(np.dot(a,b))\n",
        "print(a.dot(b))\n",
        "print(a.shape)"
      ],
      "metadata": {
        "colab": {
          "base_uri": "https://localhost:8080/"
        },
        "id": "RuLrCP_TFfJq",
        "outputId": "7896b2fc-0a59-44a1-f87c-f1179a39af9b"
      },
      "execution_count": 2,
      "outputs": [
        {
          "output_type": "stream",
          "name": "stdout",
          "text": [
            "[[8 1 2]\n",
            " [6 1 3]]\n",
            "[[9 7 7 3]\n",
            " [7 6 5 4]\n",
            " [3 2 6 1]]\n",
            "[[85 66 73 30]\n",
            " [70 54 65 25]]\n",
            "[[85 66 73 30]\n",
            " [70 54 65 25]]\n",
            "(2, 3)\n"
          ]
        }
      ]
    },
    {
      "cell_type": "code",
      "source": [
        "a = np.random.randint(1, 11, size=(2,2))\n",
        "print(a.shape)\n",
        "print(type(a))\n",
        "print(a)\n",
        "print(a.T)"
      ],
      "metadata": {
        "colab": {
          "base_uri": "https://localhost:8080/"
        },
        "id": "Cwk-4bqtFiwF",
        "outputId": "f5f659e1-31b3-41f5-a9bd-afe1aea6c4d7"
      },
      "execution_count": 3,
      "outputs": [
        {
          "output_type": "stream",
          "name": "stdout",
          "text": [
            "(2, 2)\n",
            "<class 'numpy.ndarray'>\n",
            "[[9 2]\n",
            " [5 2]]\n",
            "[[9 5]\n",
            " [2 2]]\n"
          ]
        }
      ]
    },
    {
      "cell_type": "code",
      "source": [
        "a = np.random.randint(1, 11, size=(4,3))\n",
        "b = np.array([1,0,2])\n",
        "print(a.shape)\n",
        "print(b.shape)\n",
        "\n",
        "c=np.empty_like(a)\n",
        "print(a)\n",
        "print(b)\n",
        "print(c.shape)\n",
        "print('---------------')\n",
        "print(c)"
      ],
      "metadata": {
        "colab": {
          "base_uri": "https://localhost:8080/"
        },
        "id": "70JtHqjyFm_S",
        "outputId": "fda047b7-3ad7-4fe7-f26d-6750440b790e"
      },
      "execution_count": 4,
      "outputs": [
        {
          "output_type": "stream",
          "name": "stdout",
          "text": [
            "(4, 3)\n",
            "(3,)\n",
            "[[4 2 2]\n",
            " [8 8 5]\n",
            " [8 2 6]\n",
            " [7 2 4]]\n",
            "[1 0 2]\n",
            "(4, 3)\n",
            "---------------\n",
            "[[9 5 9]\n",
            " [7 2 4]\n",
            " [2 1 2]\n",
            " [1 8 7]]\n"
          ]
        }
      ]
    },
    {
      "cell_type": "code",
      "source": [
        "for i in range(4):\n",
        "  c[i,:]=a[i,:]+b\n",
        "\n",
        "  print(a)\n",
        "  print(b)\n",
        "  print(c)\n",
        "\n",
        "  c=a+b\n",
        "  print(c)"
      ],
      "metadata": {
        "colab": {
          "base_uri": "https://localhost:8080/"
        },
        "id": "JPYewo37Fs9Y",
        "outputId": "3118ec2f-dd0a-40b0-f09d-f9d5caf8e590"
      },
      "execution_count": 5,
      "outputs": [
        {
          "output_type": "stream",
          "name": "stdout",
          "text": [
            "[[4 2 2]\n",
            " [8 8 5]\n",
            " [8 2 6]\n",
            " [7 2 4]]\n",
            "[1 0 2]\n",
            "[[5 2 4]\n",
            " [7 2 4]\n",
            " [2 1 2]\n",
            " [1 8 7]]\n",
            "[[5 2 4]\n",
            " [9 8 7]\n",
            " [9 2 8]\n",
            " [8 2 6]]\n",
            "[[4 2 2]\n",
            " [8 8 5]\n",
            " [8 2 6]\n",
            " [7 2 4]]\n",
            "[1 0 2]\n",
            "[[5 2 4]\n",
            " [9 8 7]\n",
            " [9 2 8]\n",
            " [8 2 6]]\n",
            "[[5 2 4]\n",
            " [9 8 7]\n",
            " [9 2 8]\n",
            " [8 2 6]]\n",
            "[[4 2 2]\n",
            " [8 8 5]\n",
            " [8 2 6]\n",
            " [7 2 4]]\n",
            "[1 0 2]\n",
            "[[5 2 4]\n",
            " [9 8 7]\n",
            " [9 2 8]\n",
            " [8 2 6]]\n",
            "[[5 2 4]\n",
            " [9 8 7]\n",
            " [9 2 8]\n",
            " [8 2 6]]\n",
            "[[4 2 2]\n",
            " [8 8 5]\n",
            " [8 2 6]\n",
            " [7 2 4]]\n",
            "[1 0 2]\n",
            "[[5 2 4]\n",
            " [9 8 7]\n",
            " [9 2 8]\n",
            " [8 2 6]]\n",
            "[[5 2 4]\n",
            " [9 8 7]\n",
            " [9 2 8]\n",
            " [8 2 6]]\n"
          ]
        }
      ]
    },
    {
      "cell_type": "code",
      "source": [
        "a=np.array([1,2,3])\n",
        "\n",
        "print(a)\n",
        "tmp=np.tile(a,(6,1))\n",
        "print(tmp)"
      ],
      "metadata": {
        "colab": {
          "base_uri": "https://localhost:8080/"
        },
        "id": "PFEwAZkUFyU7",
        "outputId": "f1393db2-86db-47e3-ad18-84c44e17d03c"
      },
      "execution_count": 6,
      "outputs": [
        {
          "output_type": "stream",
          "name": "stdout",
          "text": [
            "[1 2 3]\n",
            "[[1 2 3]\n",
            " [1 2 3]\n",
            " [1 2 3]\n",
            " [1 2 3]\n",
            " [1 2 3]\n",
            " [1 2 3]]\n"
          ]
        }
      ]
    },
    {
      "cell_type": "code",
      "source": [
        "a=np.random.randint(0,10, size=(6,6))\n",
        "print(a)\n",
        "aux=np.mean(a)\n",
        "print(aux)\n",
        "print(a.mean(axis=1))"
      ],
      "metadata": {
        "colab": {
          "base_uri": "https://localhost:8080/"
        },
        "id": "adxarIejF132",
        "outputId": "2946047e-5415-4c98-ee0e-0b83c6572573"
      },
      "execution_count": 7,
      "outputs": [
        {
          "output_type": "stream",
          "name": "stdout",
          "text": [
            "[[3 2 3 1 2 2]\n",
            " [2 5 5 5 9 3]\n",
            " [0 6 2 0 0 3]\n",
            " [3 9 1 6 4 2]\n",
            " [2 3 9 3 6 7]\n",
            " [7 2 2 0 2 2]]\n",
            "3.4166666666666665\n",
            "[2.16666667 4.83333333 1.83333333 4.16666667 5.         2.5       ]\n"
          ]
        }
      ]
    }
  ]
}