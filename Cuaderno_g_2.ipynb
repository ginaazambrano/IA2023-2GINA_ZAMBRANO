{
  "nbformat": 4,
  "nbformat_minor": 0,
  "metadata": {
    "colab": {
      "provenance": [],
      "authorship_tag": "ABX9TyMxRJG042F06Z+kaAQa3HMI",
      "include_colab_link": true
    },
    "kernelspec": {
      "name": "python3",
      "display_name": "Python 3"
    },
    "language_info": {
      "name": "python"
    }
  },
  "cells": [
    {
      "cell_type": "markdown",
      "metadata": {
        "id": "view-in-github",
        "colab_type": "text"
      },
      "source": [
        "<a href=\"https://colab.research.google.com/github/ginaazambrano/IA2023-2GINA_ZAMBRANO/blob/main/Cuaderno_g_2.ipynb\" target=\"_parent\"><img src=\"https://colab.research.google.com/assets/colab-badge.svg\" alt=\"Open In Colab\"/></a>"
      ]
    },
    {
      "cell_type": "code",
      "execution_count": 1,
      "metadata": {
        "colab": {
          "base_uri": "https://localhost:8080/"
        },
        "id": "bpHPbc7RB7Il",
        "outputId": "4cf5d9a5-883c-4c22-d53e-1b7c05472bf1"
      },
      "outputs": [
        {
          "output_type": "stream",
          "name": "stdout",
          "text": [
            "Python 3.10.12\n"
          ]
        }
      ],
      "source": [
        "!python --version\n",
        ""
      ]
    },
    {
      "cell_type": "code",
      "source": [
        "sample1=10\n",
        "sample2=2.2\n",
        "sample3='Ivan'\n",
        "print(type(sample1))\n",
        "print(type(sample2))\n",
        "print(type(sample3))\n",
        "\n",
        "print(sample1+sample2)\n",
        "print(sample1*sample2)\n",
        "print(sample1**2)\n",
        "\n",
        "s1=True\n",
        "s2=False\n",
        "\n",
        "#print(s1 and s2)\n",
        "#print(s1 or s2)\n",
        "#print(not s1)\n",
        "#print(len(sample3))\n",
        "#print(sample3.upper())\n",
        "#print(sample3.lower())\n",
        "#print(sample3.capitalize())\n",
        "\n",
        "\n"
      ],
      "metadata": {
        "colab": {
          "base_uri": "https://localhost:8080/"
        },
        "id": "oghrOjtNC5tk",
        "outputId": "4c3ee6d8-1ad1-475e-af0c-14c205adba82"
      },
      "execution_count": 2,
      "outputs": [
        {
          "output_type": "stream",
          "name": "stdout",
          "text": [
            "<class 'int'>\n",
            "<class 'float'>\n",
            "<class 'str'>\n",
            "12.2\n",
            "22.0\n",
            "100\n"
          ]
        }
      ]
    },
    {
      "cell_type": "code",
      "source": [
        "someList=list()\n",
        "someList=['borrador',1,'goma','mochila',True]\n",
        "#print(someList[4])\n",
        "#print(len(someList))\n",
        "\n",
        "#print('--------------')\n",
        "#for i in someList:\n",
        "#  print(i)\n",
        "\n",
        "\n",
        "#someList.append('regla')\n",
        "#print('--------------')\n",
        "#for i in someList:\n",
        "#  print (i)\n",
        "\n",
        "#someList.pop(2)\n",
        "#print('--------------')\n",
        "#for i in someList:\n",
        "#  print(i)\n",
        "#print('-------')\n",
        "#print(someList[1:4])\n",
        "print(someList[-1])\n",
        "print(someList[:3])\n",
        ""
      ],
      "metadata": {
        "colab": {
          "base_uri": "https://localhost:8080/"
        },
        "id": "eAPmIHWeC_eu",
        "outputId": "c0ee6de6-ea0f-41e6-9553-6d39903877f1"
      },
      "execution_count": 3,
      "outputs": [
        {
          "output_type": "stream",
          "name": "stdout",
          "text": [
            "True\n",
            "['borrador', 1, 'goma']\n"
          ]
        }
      ]
    },
    {
      "cell_type": "code",
      "source": [
        "d={'name':'gina','age':27,'city':'El Carmen'}\n",
        "#print(d['name'])\n",
        "#print(d['city'])\n",
        "\n",
        "#d['uni']='Uleam'\n",
        "#print(d['uni'])\n",
        "\n",
        "for key in d:\n",
        "  print(d[key])\n"
      ],
      "metadata": {
        "colab": {
          "base_uri": "https://localhost:8080/"
        },
        "id": "BCDFA_cRDE8A",
        "outputId": "b4976a11-100d-4675-d42d-0e63e79005de"
      },
      "execution_count": 6,
      "outputs": [
        {
          "output_type": "stream",
          "name": "stdout",
          "text": [
            "gina\n",
            "27\n",
            "El Carmen\n"
          ]
        }
      ]
    }
  ]
}