{
  "nbformat": 4,
  "nbformat_minor": 0,
  "metadata": {
    "colab": {
      "provenance": [],
      "authorship_tag": "ABX9TyPWtWWtf2250Dh78IE0riWx",
      "include_colab_link": true
    },
    "kernelspec": {
      "name": "python3",
      "display_name": "Python 3"
    },
    "language_info": {
      "name": "python"
    }
  },
  "cells": [
    {
      "cell_type": "markdown",
      "metadata": {
        "id": "view-in-github",
        "colab_type": "text"
      },
      "source": [
        "<a href=\"https://colab.research.google.com/github/ginaazambrano/IA2023-2GINA_ZAMBRANO/blob/main/cuadern_de_Numpy1.ipynb\" target=\"_parent\"><img src=\"https://colab.research.google.com/assets/colab-badge.svg\" alt=\"Open In Colab\"/></a>"
      ]
    },
    {
      "cell_type": "code",
      "source": [
        "import numpy as gina\n",
        "\n",
        "aux=gina.array([1,2,4,5])\n",
        "print(aux)\n",
        "# Tipo de arreglo\n",
        "print(aux.shape)\n",
        "print('------------------------------')\n",
        "\n",
        "aux=gina.array([[1,2,3,4],[1,2,3,4]])\n",
        "print(aux.shape)\n",
        "print(aux)\n",
        "print(type(aux))\n",
        "print('------------------------------')\n",
        "\n",
        "tmp=gina.zeros((4,4))\n",
        "print(tmp)\n",
        "print('------------------------------')\n",
        "\n",
        "\n",
        "tmp=gina.full((4,4),5)\n",
        "print(tmp)\n",
        "print('------------------------------')\n",
        "\n",
        "\n",
        "tmp=gina.eye(4,4)\n",
        "print(tmp)\n",
        "print('------------------------------')\n",
        "\n",
        "\n",
        "tmp=gina.ones((4,4))\n",
        "print(tmp)\n",
        "print('------------------------------')"
      ],
      "metadata": {
        "colab": {
          "base_uri": "https://localhost:8080/"
        },
        "id": "U4AY7txtCzkg",
        "outputId": "f741010d-56bb-4cfd-cf47-f03b2fe0cbbb"
      },
      "execution_count": 2,
      "outputs": [
        {
          "output_type": "stream",
          "name": "stdout",
          "text": [
            "[1 2 4 5]\n",
            "(4,)\n",
            "------------------------------\n",
            "(2, 4)\n",
            "[[1 2 3 4]\n",
            " [1 2 3 4]]\n",
            "<class 'numpy.ndarray'>\n",
            "------------------------------\n",
            "[[0. 0. 0. 0.]\n",
            " [0. 0. 0. 0.]\n",
            " [0. 0. 0. 0.]\n",
            " [0. 0. 0. 0.]]\n",
            "------------------------------\n",
            "[[5 5 5 5]\n",
            " [5 5 5 5]\n",
            " [5 5 5 5]\n",
            " [5 5 5 5]]\n",
            "------------------------------\n",
            "[[1. 0. 0. 0.]\n",
            " [0. 1. 0. 0.]\n",
            " [0. 0. 1. 0.]\n",
            " [0. 0. 0. 1.]]\n",
            "------------------------------\n",
            "[[1. 1. 1. 1.]\n",
            " [1. 1. 1. 1.]\n",
            " [1. 1. 1. 1.]\n",
            " [1. 1. 1. 1.]]\n",
            "------------------------------\n"
          ]
        }
      ]
    },
    {
      "cell_type": "code",
      "source": [
        "tmp=10*gina.random.random((4,4))\n",
        "print(tmp)\n",
        "print('------------------------------')"
      ],
      "metadata": {
        "colab": {
          "base_uri": "https://localhost:8080/"
        },
        "id": "d_4EJTjwDLZQ",
        "outputId": "c40f2609-e56e-462d-9d38-c0d0dc22a2e8"
      },
      "execution_count": 3,
      "outputs": [
        {
          "output_type": "stream",
          "name": "stdout",
          "text": [
            "[[7.27345084 7.30091169 6.71733252 0.6520065 ]\n",
            " [1.22280201 4.54360589 5.11675369 6.93349556]\n",
            " [1.39092732 0.96220153 1.25275133 6.91517021]\n",
            " [6.98596505 8.60664207 0.83825849 1.28434977]]\n",
            "------------------------------\n"
          ]
        }
      ]
    },
    {
      "cell_type": "code",
      "source": [
        "print(tmp[:2,:2])\n",
        "print('------------------------------')\n",
        "print(tmp[2:4,2:4])"
      ],
      "metadata": {
        "colab": {
          "base_uri": "https://localhost:8080/"
        },
        "id": "vS293KezDLVu",
        "outputId": "848ad311-9afd-4fe6-d38c-9bdb4f877d56"
      },
      "execution_count": 4,
      "outputs": [
        {
          "output_type": "stream",
          "name": "stdout",
          "text": [
            "[[7.27345084 7.30091169]\n",
            " [1.22280201 4.54360589]]\n",
            "------------------------------\n",
            "[[1.25275133 6.91517021]\n",
            " [0.83825849 1.28434977]]\n"
          ]
        }
      ]
    },
    {
      "cell_type": "code",
      "source": [
        "print(tmp[1,1])\n",
        "print('------------------------------')\n",
        "print(tmp[2,2])\n",
        "print('------------------------------')"
      ],
      "metadata": {
        "colab": {
          "base_uri": "https://localhost:8080/"
        },
        "id": "bmoidwUhDoCq",
        "outputId": "ad865eb4-f61f-4888-fda9-ca94f378d20a"
      },
      "execution_count": 5,
      "outputs": [
        {
          "output_type": "stream",
          "name": "stdout",
          "text": [
            "4.543605888758789\n",
            "------------------------------\n",
            "1.2527513320194417\n",
            "------------------------------\n"
          ]
        }
      ]
    },
    {
      "cell_type": "code",
      "source": [
        "tmp=10*gina.random.random((4,4))\n",
        "print(tmp)"
      ],
      "metadata": {
        "colab": {
          "base_uri": "https://localhost:8080/"
        },
        "id": "oZIzeN77Dn-6",
        "outputId": "6d9d85ad-30a2-4979-b1a7-ec6bfd241537"
      },
      "execution_count": 6,
      "outputs": [
        {
          "output_type": "stream",
          "name": "stdout",
          "text": [
            "[[3.47528378 5.39969257 6.73105109 1.31744624]\n",
            " [1.92235633 8.35292947 7.03532081 8.23777889]\n",
            " [8.10450913 7.00787051 7.78833246 7.89908983]\n",
            " [3.35327867 3.4651379  3.25619457 2.41717647]]\n"
          ]
        }
      ]
    },
    {
      "cell_type": "code",
      "source": [
        "mascara=tmp>5\n",
        "print(mascara)\n",
        "print('------------------------------')\n",
        "print(tmp[mascara])\n",
        "print('------------------------------')\n",
        ""
      ],
      "metadata": {
        "colab": {
          "base_uri": "https://localhost:8080/"
        },
        "id": "jpLxULvrDzAz",
        "outputId": "8b16c608-3b87-4e3a-842f-dfbdb7bfbf55"
      },
      "execution_count": 7,
      "outputs": [
        {
          "output_type": "stream",
          "name": "stdout",
          "text": [
            "[[False  True  True False]\n",
            " [False  True  True  True]\n",
            " [ True  True  True  True]\n",
            " [False False False False]]\n",
            "------------------------------\n",
            "[5.39969257 6.73105109 8.35292947 7.03532081 8.23777889 8.10450913\n",
            " 7.00787051 7.78833246 7.89908983]\n",
            "------------------------------\n"
          ]
        }
      ]
    },
    {
      "cell_type": "code",
      "source": [
        "\n",
        "mask = (tmp >=2) & (tmp<=4)\n",
        "print(tmp[mask])\n"
      ],
      "metadata": {
        "colab": {
          "base_uri": "https://localhost:8080/"
        },
        "id": "wDXEOs0JDy9g",
        "outputId": "24cb0ad3-b13a-4bd0-c7d5-45d4714afa6c"
      },
      "execution_count": 8,
      "outputs": [
        {
          "output_type": "stream",
          "name": "stdout",
          "text": [
            "[3.47528378 3.35327867 3.4651379  3.25619457 2.41717647]\n"
          ]
        }
      ]
    },
    {
      "cell_type": "code",
      "source": [
        "tmp = gina.random.randint(0, 11, size=(4, 4))\n",
        "print(tmp)\n",
        "print('----------------------------------')\n",
        "mask = gina.mod(tmp, 2) == 0\n",
        "print(tmp[mask])"
      ],
      "metadata": {
        "colab": {
          "base_uri": "https://localhost:8080/"
        },
        "id": "iq3US-ZoEbzu",
        "outputId": "ba9fb4ca-4f1a-422e-abb5-f93bfadd7b37"
      },
      "execution_count": 9,
      "outputs": [
        {
          "output_type": "stream",
          "name": "stdout",
          "text": [
            "[[3 2 7 4]\n",
            " [7 6 9 1]\n",
            " [0 6 9 0]\n",
            " [4 7 4 2]]\n",
            "----------------------------------\n",
            "[2 4 6 0 6 0 4 4 2]\n"
          ]
        }
      ]
    }
  ]
}