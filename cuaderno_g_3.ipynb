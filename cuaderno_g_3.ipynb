{
  "nbformat": 4,
  "nbformat_minor": 0,
  "metadata": {
    "colab": {
      "provenance": [],
      "authorship_tag": "ABX9TyPE05zBq4xXQqEXCpZW+e2R",
      "include_colab_link": true
    },
    "kernelspec": {
      "name": "python3",
      "display_name": "Python 3"
    },
    "language_info": {
      "name": "python"
    }
  },
  "cells": [
    {
      "cell_type": "markdown",
      "metadata": {
        "id": "view-in-github",
        "colab_type": "text"
      },
      "source": [
        "<a href=\"https://colab.research.google.com/github/ginaazambrano/IA2023-2GINA_ZAMBRANO/blob/main/cuaderno_g_3.ipynb\" target=\"_parent\"><img src=\"https://colab.research.google.com/assets/colab-badge.svg\" alt=\"Open In Colab\"/></a>"
      ]
    },
    {
      "cell_type": "code",
      "execution_count": 1,
      "metadata": {
        "id": "L4OZyWveDUjE"
      },
      "outputs": [],
      "source": [
        "import numpy as np\n",
        ""
      ]
    },
    {
      "cell_type": "code",
      "source": [
        "aux=np.array([1,2,3,4,5])\n",
        "print(aux)\n",
        "print(aux.shape)\n",
        "\n",
        "aux2=np.array([[1,2,3,4,5],[1,2,3,4,5]])\n",
        "print(aux2)\n",
        "print(aux2.shape)\n",
        "print(type(aux2))"
      ],
      "metadata": {
        "colab": {
          "base_uri": "https://localhost:8080/"
        },
        "id": "AeOg1X9iDgdo",
        "outputId": "08cfe47d-43da-4185-8e9d-bfd6a566b9dc"
      },
      "execution_count": 2,
      "outputs": [
        {
          "output_type": "stream",
          "name": "stdout",
          "text": [
            "[1 2 3 4 5]\n",
            "(5,)\n",
            "[[1 2 3 4 5]\n",
            " [1 2 3 4 5]]\n",
            "(2, 5)\n",
            "<class 'numpy.ndarray'>\n"
          ]
        }
      ]
    },
    {
      "cell_type": "code",
      "source": [
        "tmp=np.zeros((4,4))\n",
        "print(tmp)"
      ],
      "metadata": {
        "colab": {
          "base_uri": "https://localhost:8080/"
        },
        "id": "b1HUIvfmDkCT",
        "outputId": "68cc392f-dd52-4600-a06c-0af1a5895135"
      },
      "execution_count": 3,
      "outputs": [
        {
          "output_type": "stream",
          "name": "stdout",
          "text": [
            "[[0. 0. 0. 0.]\n",
            " [0. 0. 0. 0.]\n",
            " [0. 0. 0. 0.]\n",
            " [0. 0. 0. 0.]]\n"
          ]
        }
      ]
    },
    {
      "cell_type": "code",
      "source": [
        "print(\"Matriz full valores del mismo numeroi\")\n",
        "tmp=np.full((4,4),5)\n",
        "print(tmp)"
      ],
      "metadata": {
        "colab": {
          "base_uri": "https://localhost:8080/"
        },
        "id": "m3cAiIFoDoLK",
        "outputId": "a0a40467-f448-4151-992a-d7a9b32ac31d"
      },
      "execution_count": 4,
      "outputs": [
        {
          "output_type": "stream",
          "name": "stdout",
          "text": [
            "Matriz full valores del mismo numeroi\n",
            "[[5 5 5 5]\n",
            " [5 5 5 5]\n",
            " [5 5 5 5]\n",
            " [5 5 5 5]]\n"
          ]
        }
      ]
    },
    {
      "cell_type": "code",
      "source": [
        "print(\"Matriz diagonal\")\n",
        "tmp=np.eye(4,4)\n",
        "print(tmp)"
      ],
      "metadata": {
        "colab": {
          "base_uri": "https://localhost:8080/"
        },
        "id": "YOLZ-DxrDq4X",
        "outputId": "31fa9680-ef71-492f-ddb7-633a75a00342"
      },
      "execution_count": 5,
      "outputs": [
        {
          "output_type": "stream",
          "name": "stdout",
          "text": [
            "Matriz diagonal\n",
            "[[1. 0. 0. 0.]\n",
            " [0. 1. 0. 0.]\n",
            " [0. 0. 1. 0.]\n",
            " [0. 0. 0. 1.]]\n"
          ]
        }
      ]
    },
    {
      "cell_type": "code",
      "source": [
        "print(\"Matriz de 1\")\n",
        "tmp=np.ones((4,4))\n",
        "print(tmp)"
      ],
      "metadata": {
        "colab": {
          "base_uri": "https://localhost:8080/"
        },
        "id": "tUgt5MqjDvFc",
        "outputId": "2b6f0f0d-8fa9-4e65-a78b-c59c4f5c2dca"
      },
      "execution_count": 6,
      "outputs": [
        {
          "output_type": "stream",
          "name": "stdout",
          "text": [
            "Matriz de 1\n",
            "[[1. 1. 1. 1.]\n",
            " [1. 1. 1. 1.]\n",
            " [1. 1. 1. 1.]\n",
            " [1. 1. 1. 1.]]\n"
          ]
        }
      ]
    },
    {
      "cell_type": "code",
      "source": [
        "print(\"Numeros randoms\")\n",
        "tmp=10*np.random.random((4,4))\n",
        "print(tmp)\n",
        "print(tmp.shape)"
      ],
      "metadata": {
        "colab": {
          "base_uri": "https://localhost:8080/"
        },
        "id": "ZjO01mFuDzDG",
        "outputId": "1d3b9da6-3b2a-49fe-9633-b3d7650e767c"
      },
      "execution_count": 7,
      "outputs": [
        {
          "output_type": "stream",
          "name": "stdout",
          "text": [
            "Numeros randoms\n",
            "[[1.70045539 0.47536262 1.37526943 3.59718189]\n",
            " [8.00182793 8.7882254  2.52169645 3.22848801]\n",
            " [8.9535313  3.80692462 4.18540015 7.74629106]\n",
            " [2.63363483 6.32646946 9.13583979 5.6867211 ]]\n",
            "(4, 4)\n"
          ]
        }
      ]
    },
    {
      "cell_type": "code",
      "source": [
        "print(tmp[:2,:2])"
      ],
      "metadata": {
        "colab": {
          "base_uri": "https://localhost:8080/"
        },
        "id": "HbjqjfRHD3zP",
        "outputId": "05f92312-27b6-4d70-efcb-ca1ad23c0042"
      },
      "execution_count": 8,
      "outputs": [
        {
          "output_type": "stream",
          "name": "stdout",
          "text": [
            "[[1.70045539 0.47536262]\n",
            " [8.00182793 8.7882254 ]]\n"
          ]
        }
      ]
    },
    {
      "cell_type": "code",
      "source": [
        "print(tmp[3])"
      ],
      "metadata": {
        "colab": {
          "base_uri": "https://localhost:8080/"
        },
        "id": "5KeidoJFD7-x",
        "outputId": "e5826c3c-244b-4bc6-d111-4bcef691f3ba"
      },
      "execution_count": 9,
      "outputs": [
        {
          "output_type": "stream",
          "name": "stdout",
          "text": [
            "[2.63363483 6.32646946 9.13583979 5.6867211 ]\n"
          ]
        }
      ]
    },
    {
      "cell_type": "code",
      "source": [
        "print(tmp[2,2])\n",
        ""
      ],
      "metadata": {
        "colab": {
          "base_uri": "https://localhost:8080/"
        },
        "id": "c9gQICtKD_yS",
        "outputId": "378a40b1-fe7f-4a58-d606-d9071de340e3"
      },
      "execution_count": 10,
      "outputs": [
        {
          "output_type": "stream",
          "name": "stdout",
          "text": [
            "4.185400148130122\n"
          ]
        }
      ]
    },
    {
      "cell_type": "code",
      "source": [
        "print(\"Numeros randoms\")\n",
        "tmp=10*np.random.random((4,4))\n",
        "print(tmp)\n",
        "print(tmp.shape)\n",
        ""
      ],
      "metadata": {
        "colab": {
          "base_uri": "https://localhost:8080/"
        },
        "id": "l8qqEBz3EBUl",
        "outputId": "024c5c95-b79d-4052-a6b5-7607726e2233"
      },
      "execution_count": 11,
      "outputs": [
        {
          "output_type": "stream",
          "name": "stdout",
          "text": [
            "Numeros randoms\n",
            "[[6.67203142 9.6507126  6.84550257 4.55975011]\n",
            " [5.77764282 1.44206288 6.1850285  1.48990523]\n",
            " [5.05795937 7.91371725 0.10676035 0.23407169]\n",
            " [7.17009705 0.17066854 2.30675191 1.82277083]]\n",
            "(4, 4)\n"
          ]
        }
      ]
    },
    {
      "cell_type": "code",
      "source": [
        "mask=tmp>5\n",
        "print(tmp[mask])"
      ],
      "metadata": {
        "colab": {
          "base_uri": "https://localhost:8080/"
        },
        "id": "M0Z5AksNENC2",
        "outputId": "5d3ddfc2-5c42-4a4e-c8b5-dd22b2929ffa"
      },
      "execution_count": 12,
      "outputs": [
        {
          "output_type": "stream",
          "name": "stdout",
          "text": [
            "[6.67203142 9.6507126  6.84550257 5.77764282 6.1850285  5.05795937\n",
            " 7.91371725 7.17009705]\n"
          ]
        }
      ]
    },
    {
      "cell_type": "code",
      "source": [],
      "metadata": {
        "id": "9r4DRS3JEPu7"
      },
      "execution_count": null,
      "outputs": []
    }
  ]
}