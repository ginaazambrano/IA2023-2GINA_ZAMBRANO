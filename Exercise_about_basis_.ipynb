{
  "nbformat": 4,
  "nbformat_minor": 0,
  "metadata": {
    "colab": {
      "provenance": [],
      "authorship_tag": "ABX9TyO5ckRUfzKG3Pk3mivG5Dca",
      "include_colab_link": true
    },
    "kernelspec": {
      "name": "python3",
      "display_name": "Python 3"
    },
    "language_info": {
      "name": "python"
    }
  },
  "cells": [
    {
      "cell_type": "markdown",
      "metadata": {
        "id": "view-in-github",
        "colab_type": "text"
      },
      "source": [
        "<a href=\"https://colab.research.google.com/github/ginaazambrano/IA2023-2GINA_ZAMBRANO/blob/main/Exercise_about_basis_.ipynb\" target=\"_parent\"><img src=\"https://colab.research.google.com/assets/colab-badge.svg\" alt=\"Open In Colab\"/></a>"
      ]
    },
    {
      "cell_type": "code",
      "execution_count": 1,
      "metadata": {
        "colab": {
          "base_uri": "https://localhost:8080/"
        },
        "id": "vNYRzOjmWYt8",
        "outputId": "c610bbe2-f9d8-4557-f98c-1039281f67ba"
      },
      "outputs": [
        {
          "output_type": "stream",
          "name": "stdout",
          "text": [
            "Python 3.10.12\n"
          ]
        }
      ],
      "source": [
        "!python --version"
      ]
    },
    {
      "cell_type": "code",
      "source": [
        "sample1=10\n",
        "sample2=2.2\n",
        "sample3='Gina'\n",
        "print(type(sample1))\n",
        "print(type(sample2))\n",
        "print(type(sample3))\n",
        "\n",
        "print(sample1+sample2)\n",
        "print(sample1*sample2)\n",
        "print(sample1**2)\n",
        "\n",
        "s1=True\n",
        "s2=False\n",
        "\n",
        "#print(s1 and s2)\n",
        "#print(s1 or s2)\n",
        "#print(not s1)\n",
        "#print(len(sample3))\n",
        "#print(sample3.upper())\n",
        "#print(sample3.lower())\n",
        "#print(sample3.capitalize())"
      ],
      "metadata": {
        "colab": {
          "base_uri": "https://localhost:8080/"
        },
        "id": "ZYpAeksQWfam",
        "outputId": "37df790e-057f-4202-d989-64752656d2dd"
      },
      "execution_count": 2,
      "outputs": [
        {
          "output_type": "stream",
          "name": "stdout",
          "text": [
            "<class 'int'>\n",
            "<class 'float'>\n",
            "<class 'str'>\n",
            "12.2\n",
            "22.0\n",
            "100\n"
          ]
        }
      ]
    },
    {
      "cell_type": "code",
      "source": [
        "someList=list()\n",
        "someList=['goma',1,'lapiz','cuaderno',True]\n",
        "#print(someList[4])\n",
        "#print(len(someList))\n",
        "\n",
        "#print('--------------')\n",
        "#for i in someList:\n",
        "#  print(i)\n",
        "\n",
        "\n",
        "#someList.append('regla')\n",
        "#print('--------------')\n",
        "#for i in someList:\n",
        "#  print (i)\n",
        "\n",
        "#someList.pop(2)\n",
        "#print('--------------')\n",
        "#for i in someList:\n",
        "#  print(i)\n",
        "#print('-------')\n",
        "#print(someList[1:4])\n",
        "print(someList[-1])\n",
        "print(someList[:3])"
      ],
      "metadata": {
        "colab": {
          "base_uri": "https://localhost:8080/"
        },
        "id": "E661yGRWWfX2",
        "outputId": "ae19ee0b-88a4-4954-cf6d-e17fd6b7d830"
      },
      "execution_count": 3,
      "outputs": [
        {
          "output_type": "stream",
          "name": "stdout",
          "text": [
            "True\n",
            "['goma', 1, 'lapiz']\n"
          ]
        }
      ]
    },
    {
      "cell_type": "code",
      "source": [
        "d={'name':'Daniela','age':27,'city':'El Carmen'}\n",
        "#print(d['name'])\n",
        "#print(d['city'])\n",
        "\n",
        "#d['uni']='Uleam'\n",
        "#print(d['uni'])\n",
        "\n",
        "for key in d:\n",
        "  print(d[key])"
      ],
      "metadata": {
        "colab": {
          "base_uri": "https://localhost:8080/"
        },
        "id": "-Irtyra-WfVQ",
        "outputId": "53919497-e3f1-4b99-87bb-397aae8cee6b"
      },
      "execution_count": 5,
      "outputs": [
        {
          "output_type": "stream",
          "name": "stdout",
          "text": [
            "Daniela\n",
            "27\n",
            "El Carmen\n"
          ]
        }
      ]
    }
  ]
}