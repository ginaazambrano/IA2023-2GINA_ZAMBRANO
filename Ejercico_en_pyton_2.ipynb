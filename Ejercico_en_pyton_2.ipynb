{
  "nbformat": 4,
  "nbformat_minor": 0,
  "metadata": {
    "colab": {
      "provenance": [],
      "authorship_tag": "ABX9TyM/mcG5YaER/lNKgqhGITFB",
      "include_colab_link": true
    },
    "kernelspec": {
      "name": "python3",
      "display_name": "Python 3"
    },
    "language_info": {
      "name": "python"
    }
  },
  "cells": [
    {
      "cell_type": "markdown",
      "metadata": {
        "id": "view-in-github",
        "colab_type": "text"
      },
      "source": [
        "<a href=\"https://colab.research.google.com/github/ginaazambrano/IA2023-2GINA_ZAMBRANO/blob/main/Ejercico_en_pyton_2.ipynb\" target=\"_parent\"><img src=\"https://colab.research.google.com/assets/colab-badge.svg\" alt=\"Open In Colab\"/></a>"
      ]
    },
    {
      "cell_type": "code",
      "source": [
        "num_1 = 1\n",
        "num_2 = 2\n",
        "print(num_1+num_2)\n",
        ""
      ],
      "metadata": {
        "colab": {
          "base_uri": "https://localhost:8080/"
        },
        "id": "GubaqY8hZtjn",
        "outputId": "98f6c8ec-3ac3-4de1-ec2d-8d81e78a0cf4"
      },
      "execution_count": 3,
      "outputs": [
        {
          "output_type": "stream",
          "name": "stdout",
          "text": [
            "3\n"
          ]
        }
      ]
    },
    {
      "cell_type": "code",
      "source": [
        "pote = 1**num_2\n",
        "print(pote)\n",
        ""
      ],
      "metadata": {
        "colab": {
          "base_uri": "https://localhost:8080/"
        },
        "id": "bgc4b56YZwcS",
        "outputId": "2b8b1bf9-2814-4332-af3b-159940c63b65"
      },
      "execution_count": 4,
      "outputs": [
        {
          "output_type": "stream",
          "name": "stdout",
          "text": [
            "1\n"
          ]
        }
      ]
    },
    {
      "cell_type": "code",
      "source": [
        "aux_1=True\n",
        "aux_2=False\n",
        "print(aux_1 and aux_2)\n",
        "print(aux_1 or aux_2)\n",
        "\n",
        "#print(not aux_1)\n",
        "#print(not aux_2)\n"
      ],
      "metadata": {
        "colab": {
          "base_uri": "https://localhost:8080/"
        },
        "id": "K1nRATIsZwZo",
        "outputId": "45f54899-2035-48d8-f843-56d0172c60f4"
      },
      "execution_count": 5,
      "outputs": [
        {
          "output_type": "stream",
          "name": "stdout",
          "text": [
            "False\n",
            "True\n"
          ]
        }
      ]
    },
    {
      "cell_type": "code",
      "source": [
        "myName=\"Gina\"\n",
        "print(myName)\n",
        "print(myName.upper())\n",
        "print(myName.lower())\n",
        ""
      ],
      "metadata": {
        "colab": {
          "base_uri": "https://localhost:8080/"
        },
        "id": "232kpIhAZwXS",
        "outputId": "4b56847e-108f-426c-96af-1eb375aff90b"
      },
      "execution_count": 6,
      "outputs": [
        {
          "output_type": "stream",
          "name": "stdout",
          "text": [
            "Gina\n",
            "GINA\n",
            "gina\n"
          ]
        }
      ]
    },
    {
      "cell_type": "code",
      "source": [
        "tmp='Gina ;Daniela; Maria'\n",
        "print(tmp)\n",
        "print(tmp.split(';'))"
      ],
      "metadata": {
        "colab": {
          "base_uri": "https://localhost:8080/"
        },
        "id": "j-pnvfmVZ4MM",
        "outputId": "ab8a66e2-7850-4e94-9bca-a5a76f9f4103"
      },
      "execution_count": 7,
      "outputs": [
        {
          "output_type": "stream",
          "name": "stdout",
          "text": [
            "Gina ;Daniela; Maria\n",
            "['Gina ', 'Daniela', ' Maria']\n"
          ]
        }
      ]
    },
    {
      "cell_type": "code",
      "source": [
        "lista=('cuaderno','lapiz','borrador','regla')\n",
        "print(lista)\n",
        "nuevo_objeto='hoja'\n",
        "#lista.append(nuevo_objeto)\n",
        "print(lista)\n",
        ""
      ],
      "metadata": {
        "colab": {
          "base_uri": "https://localhost:8080/"
        },
        "id": "WsQv7Iv9aJjX",
        "outputId": "d76485e3-1bb3-47f4-8d23-edfbbe1e851e"
      },
      "execution_count": 9,
      "outputs": [
        {
          "output_type": "stream",
          "name": "stdout",
          "text": [
            "('cuaderno', 'lapiz', 'borrador', 'regla')\n",
            "('cuaderno', 'lapiz', 'borrador', 'regla')\n"
          ]
        }
      ]
    },
    {
      "cell_type": "code",
      "source": [
        "newListeNum=list(range(20))\n",
        "print(newListeNum)\n",
        "print(newListeNum[5:11])\n",
        "print(newListeNum[-1])\n"
      ],
      "metadata": {
        "colab": {
          "base_uri": "https://localhost:8080/"
        },
        "id": "KGTOLgOuaUot",
        "outputId": "43606ff6-8839-4684-8493-c20f65fe945b"
      },
      "execution_count": 10,
      "outputs": [
        {
          "output_type": "stream",
          "name": "stdout",
          "text": [
            "[0, 1, 2, 3, 4, 5, 6, 7, 8, 9, 10, 11, 12, 13, 14, 15, 16, 17, 18, 19]\n",
            "[5, 6, 7, 8, 9, 10]\n",
            "19\n"
          ]
        }
      ]
    }
  ]
}