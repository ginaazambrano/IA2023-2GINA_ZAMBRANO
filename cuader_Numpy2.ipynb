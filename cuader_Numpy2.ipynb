{
  "nbformat": 4,
  "nbformat_minor": 0,
  "metadata": {
    "colab": {
      "provenance": [],
      "authorship_tag": "ABX9TyNEjJ5ewN44vS2TUikWMISf",
      "include_colab_link": true
    },
    "kernelspec": {
      "name": "python3",
      "display_name": "Python 3"
    },
    "language_info": {
      "name": "python"
    }
  },
  "cells": [
    {
      "cell_type": "markdown",
      "metadata": {
        "id": "view-in-github",
        "colab_type": "text"
      },
      "source": [
        "<a href=\"https://colab.research.google.com/github/ginaazambrano/IA2023-2GINA_ZAMBRANO/blob/main/cuader_Numpy2.ipynb\" target=\"_parent\"><img src=\"https://colab.research.google.com/assets/colab-badge.svg\" alt=\"Open In Colab\"/></a>"
      ]
    },
    {
      "cell_type": "code",
      "execution_count": 1,
      "metadata": {
        "colab": {
          "base_uri": "https://localhost:8080/"
        },
        "id": "zCeLdUKMFUPR",
        "outputId": "cac5f14a-b984-43aa-88b6-3d6c63bcb167"
      },
      "outputs": [
        {
          "output_type": "stream",
          "name": "stdout",
          "text": [
            "[[ 6  3  6  4]\n",
            " [ 7  7  4  7]\n",
            " [ 1 10  1  9]]\n",
            "[[3 6 5 7]\n",
            " [7 3 3 7]\n",
            " [6 8 8 7]]\n",
            "(3, 4)\n",
            "(3, 4)\n",
            "Adding numbers\n",
            "[[ 9  9 11 11]\n",
            " [14 10  7 14]\n",
            " [ 7 18  9 16]]\n",
            "Subtracting numbers\n",
            "[[ 3 -3  1 -3]\n",
            " [ 0  4  1  0]\n",
            " [-5  2 -7  2]]\n",
            "Multiplication numbers\n",
            "[[18 18 30 28]\n",
            " [49 21 12 49]\n",
            " [ 6 80  8 63]]\n",
            "Add\n",
            "[[ 9  9 11 11]\n",
            " [14 10  7 14]\n",
            " [ 7 18  9 16]]\n",
            "Substract\n",
            "[[18 18 30 28]\n",
            " [49 21 12 49]\n",
            " [ 6 80  8 63]]\n",
            "Multiply\n",
            "[[ 3 -3  1 -3]\n",
            " [ 0  4  1  0]\n",
            " [-5  2 -7  2]]\n",
            "Divide\n",
            "[[2.         0.5        1.2        0.57142857]\n",
            " [1.         2.33333333 1.33333333 1.        ]\n",
            " [0.16666667 1.25       0.125      1.28571429]]\n"
          ]
        }
      ],
      "source": [
        "import numpy as np\n",
        "\n",
        "#create an array with random inteher values between 1 and 10\n",
        "a = np.random.randint(1, 11, size=(3,4))\n",
        "b = np.random.randint(1, 11, size=(3,4))\n",
        "print(a)\n",
        "print(b)\n",
        "print(a.shape)\n",
        "print(b.shape)\n",
        "print('Adding numbers')\n",
        "#plus\n",
        "print(a+b)\n",
        "print('Subtracting numbers')\n",
        "#minus\n",
        "print(a-b)\n",
        "print('Multiplication numbers')\n",
        "#times\n",
        "print(a*b)\n",
        "\n",
        "\n",
        "print('Add')\n",
        "print(np.add(a,b))\n",
        "print('Substract')\n",
        "print(np.multiply(a,b))\n",
        "print('Multiply')\n",
        "print(np.subtract(a,b))\n",
        "print('Divide')\n",
        "print(np.divide(a,b))"
      ]
    },
    {
      "cell_type": "code",
      "source": [
        "m1 = np.random.randint(1, 11, size=(3,4))\n",
        "m2 = np.random.randint(1, 11, size=(4,8))\n",
        "print('Matriz 1')\n",
        "print(m1)\n",
        "print(m1.shape)\n",
        "print('Matriz 2')\n",
        "print(m2)\n",
        "print(m2.shape)\n",
        "print('-------------------------')\n",
        "print('Forma 1')\n",
        "print(np.dot(m1,m2))\n",
        "print('Forma 2')\n",
        "print(m1.dot(m2))\n",
        "print(np.dot(m1,m2).shape)"
      ],
      "metadata": {
        "colab": {
          "base_uri": "https://localhost:8080/"
        },
        "id": "MGjFO_46F8t5",
        "outputId": "4956af36-2a4d-490f-ecd7-40e7485f07a3"
      },
      "execution_count": 2,
      "outputs": [
        {
          "output_type": "stream",
          "name": "stdout",
          "text": [
            "Matriz 1\n",
            "[[ 1  1  1  9]\n",
            " [10 10  9  9]\n",
            " [10  6 10  7]]\n",
            "(3, 4)\n",
            "Matriz 2\n",
            "[[ 4 10  3  4  4  1  2  3]\n",
            " [ 6  6 10  2  3  2  6 10]\n",
            " [ 3  1  7  7  6  2  7  7]\n",
            " [ 5  7 10  2  3  3  1  4]]\n",
            "(4, 8)\n",
            "-------------------------\n",
            "Forma 1\n",
            "[[ 58  80 110  31  40  32  24  56]\n",
            " [172 232 283 141 151  75 152 229]\n",
            " [141 195 230 136 139  63 133 188]]\n",
            "Forma 2\n",
            "[[ 58  80 110  31  40  32  24  56]\n",
            " [172 232 283 141 151  75 152 229]\n",
            " [141 195 230 136 139  63 133 188]]\n",
            "(3, 8)\n"
          ]
        }
      ]
    },
    {
      "cell_type": "code",
      "source": [
        "a = np.random.randint(1, 11, size=(2,2))\n",
        "print(a.shape)\n",
        "print(type(a))\n",
        "print(a)\n",
        "print(a.T)"
      ],
      "metadata": {
        "colab": {
          "base_uri": "https://localhost:8080/"
        },
        "id": "ffW68DIoF8jY",
        "outputId": "d345d3fc-f79a-4497-9b66-c68cbd418629"
      },
      "execution_count": 3,
      "outputs": [
        {
          "output_type": "stream",
          "name": "stdout",
          "text": [
            "(2, 2)\n",
            "<class 'numpy.ndarray'>\n",
            "[[10  4]\n",
            " [ 1  1]]\n",
            "[[10  1]\n",
            " [ 4  1]]\n"
          ]
        }
      ]
    },
    {
      "cell_type": "code",
      "source": [
        "#broadcast\n",
        "x = np.random.randint(1, 11, size=(4,3))\n",
        "y = np.array([1,0,2])\n",
        "\n",
        "print(x.shape)\n",
        "print(y.shape)\n",
        "\n",
        "z=np.empty_like(x)\n",
        "print('---------------------')\n",
        "print(x)\n",
        "print('---------------------')\n",
        "print(y)\n",
        "print(z.shape)\n",
        "print('---------------------')\n",
        "print(z)"
      ],
      "metadata": {
        "colab": {
          "base_uri": "https://localhost:8080/"
        },
        "id": "dlSnuAGZF8dw",
        "outputId": "1be26ac5-6174-4dc6-debe-fa21f31c1ff7"
      },
      "execution_count": 4,
      "outputs": [
        {
          "output_type": "stream",
          "name": "stdout",
          "text": [
            "(4, 3)\n",
            "(3,)\n",
            "---------------------\n",
            "[[ 4  5  1]\n",
            " [ 1  7  4]\n",
            " [ 9  7  3]\n",
            " [ 5  4 10]]\n",
            "---------------------\n",
            "[1 0 2]\n",
            "(4, 3)\n",
            "---------------------\n",
            "[[4611686018427387904 4602678819172646912 4608083138725491507]\n",
            " [4603322190547985554 4607182418800017408 4612436618365282987]\n",
            " [4608683618675807573 4607182418800017408 4595172819793696085]\n",
            " [4608308318706860032 4593671619917905920 4608469161550694693]]\n"
          ]
        }
      ]
    },
    {
      "cell_type": "code",
      "source": [
        "for i in range(4):\n",
        "  z[i,:]=x[i,:]+y\n",
        "print(z)"
      ],
      "metadata": {
        "colab": {
          "base_uri": "https://localhost:8080/"
        },
        "id": "bU0ZmtGWGcde",
        "outputId": "7c248290-8016-4014-8366-9f0728e818e2"
      },
      "execution_count": 5,
      "outputs": [
        {
          "output_type": "stream",
          "name": "stdout",
          "text": [
            "[[ 5  5  3]\n",
            " [ 2  7  6]\n",
            " [10  7  5]\n",
            " [ 6  4 12]]\n"
          ]
        }
      ]
    },
    {
      "cell_type": "code",
      "source": [
        "z=x+y\n",
        "print(z)\n",
        ""
      ],
      "metadata": {
        "colab": {
          "base_uri": "https://localhost:8080/"
        },
        "id": "oC7DqNBwGgF1",
        "outputId": "a0ad3019-c9bf-439a-8895-5585e9e9ffde"
      },
      "execution_count": 6,
      "outputs": [
        {
          "output_type": "stream",
          "name": "stdout",
          "text": [
            "[[ 5  5  3]\n",
            " [ 2  7  6]\n",
            " [10  7  5]\n",
            " [ 6  4 12]]\n"
          ]
        }
      ]
    },
    {
      "cell_type": "code",
      "source": [
        "#para comentar varias lineas de codigo se usa triple comillas simples \"\"\"  \"\"\"\n",
        "\n",
        "a=np.array([1,2,3])\n",
        "print(a)\n",
        "print('-----------------')\n",
        "\n",
        "b = np.full((6,3),[a])\n",
        "print(b)\n",
        "print('-----------------')\n",
        "\n",
        "c= np.tile(a,(6,1))\n",
        "print(c)\n"
      ],
      "metadata": {
        "colab": {
          "base_uri": "https://localhost:8080/"
        },
        "id": "kY__57aeGl4q",
        "outputId": "a0049701-bc1d-447f-a1e3-07f13406ddd1"
      },
      "execution_count": 7,
      "outputs": [
        {
          "output_type": "stream",
          "name": "stdout",
          "text": [
            "[1 2 3]\n",
            "-----------------\n",
            "[[1 2 3]\n",
            " [1 2 3]\n",
            " [1 2 3]\n",
            " [1 2 3]\n",
            " [1 2 3]\n",
            " [1 2 3]]\n",
            "-----------------\n",
            "[[1 2 3]\n",
            " [1 2 3]\n",
            " [1 2 3]\n",
            " [1 2 3]\n",
            " [1 2 3]\n",
            " [1 2 3]]\n"
          ]
        }
      ]
    },
    {
      "cell_type": "code",
      "source": [
        "m1 = np.random.randint(0, 10, size=(6,6))\n",
        "print(m1)\n",
        "aux=np.mean(m1)\n",
        "print(aux)\n",
        "\n",
        "np.mean(m1, axis=1) #promedio por filas\n",
        "np.mean(m1, axis=0) #promedio por filas\n",
        "\n",
        "print('Promedio por filas')\n",
        "print(np.mean(m1, axis=1))\n",
        "print('Promedio por columnas')\n",
        "print(np.mean(m1, axis=0))"
      ],
      "metadata": {
        "colab": {
          "base_uri": "https://localhost:8080/"
        },
        "id": "U5o8ZWqRGo42",
        "outputId": "215fb216-5d5f-488b-e792-2c218c9b1fe8"
      },
      "execution_count": 8,
      "outputs": [
        {
          "output_type": "stream",
          "name": "stdout",
          "text": [
            "[[1 2 7 2 8 9]\n",
            " [6 1 9 7 4 7]\n",
            " [3 5 2 1 0 3]\n",
            " [2 8 5 6 2 5]\n",
            " [2 1 7 7 2 8]\n",
            " [2 7 6 6 7 2]]\n",
            "4.5\n",
            "Promedio por filas\n",
            "[4.83333333 5.66666667 2.33333333 4.66666667 4.5        5.        ]\n",
            "Promedio por columnas\n",
            "[2.66666667 4.         6.         4.83333333 3.83333333 5.66666667]\n"
          ]
        }
      ]
    },
    {
      "cell_type": "code",
      "source": [],
      "metadata": {
        "id": "lwXFCcY-Govt"
      },
      "execution_count": null,
      "outputs": []
    }
  ]
}